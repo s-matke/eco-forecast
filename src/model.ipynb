{
 "cells": [
  {
   "cell_type": "code",
   "execution_count": 1,
   "metadata": {},
   "outputs": [],
   "source": [
    "import pandas as pd\n",
    "import numpy as np\n",
    "import os\n",
    "import matplotlib.pyplot as plt\n",
    "\n",
    "from sklearn.model_selection import train_test_split\n",
    "from sklearn.neighbors import KNeighborsClassifier\n",
    "from sklearn.model_selection import GridSearchCV, StratifiedKFold\n",
    "from sklearn.metrics import confusion_matrix, ConfusionMatrixDisplay, accuracy_score, precision_score, recall_score, f1_score\n",
    "from sklearn.preprocessing import StandardScaler\n",
    "from sklearn.utils import resample\n",
    "\n",
    "from sklearn.svm import SVC\n",
    "from sklearn.ensemble import RandomForestClassifier\n",
    "\n",
    "import pickle"
   ]
  },
  {
   "cell_type": "code",
   "execution_count": 5,
   "metadata": {},
   "outputs": [],
   "source": [
    "DATA_PATH = \"/home/stefan/Documents/Workspace/Python/ML/Hackathon/eco-forecast/data\"\n",
    "MODEL_PATH = \"/home/stefan/Documents/Workspace/Python/ML/Hackathon/eco-forecast/models\"\n",
    "\n",
    "df = pd.read_csv(f'{DATA_PATH}/processed_data.csv')"
   ]
  },
  {
   "cell_type": "code",
   "execution_count": 192,
   "metadata": {},
   "outputs": [
    {
     "data": {
      "text/plain": [
       "(8760, 29)"
      ]
     },
     "execution_count": 192,
     "metadata": {},
     "output_type": "execute_result"
    }
   ],
   "source": [
    "df.shape"
   ]
  },
  {
   "cell_type": "code",
   "execution_count": 193,
   "metadata": {},
   "outputs": [],
   "source": [
    "countries = [col.split('_')[2] for col in df.columns if 'green_energy' in col]"
   ]
  },
  {
   "cell_type": "code",
   "execution_count": 194,
   "metadata": {},
   "outputs": [
    {
     "data": {
      "text/plain": [
       "Index(['StartTime', 'green_energy_SE', 'SE_Load', 'green_energy_DE', 'DE_Load',\n",
       "       'green_energy_HU', 'HU_Load', 'green_energy_IT', 'IT_Load',\n",
       "       'green_energy_SP', 'SP_Load', 'green_energy_NE', 'NE_Load',\n",
       "       'green_energy_PO', 'PO_Load', 'green_energy_UK', 'UK_Load',\n",
       "       'green_energy_DK', 'DK_Load', 'surplus_SE', 'surplus_DE', 'surplus_HU',\n",
       "       'surplus_IT', 'surplus_SP', 'surplus_NE', 'surplus_PO', 'surplus_UK',\n",
       "       'surplus_DK', 'label'],\n",
       "      dtype='object')"
      ]
     },
     "execution_count": 194,
     "metadata": {},
     "output_type": "execute_result"
    }
   ],
   "source": [
    "df.columns"
   ]
  },
  {
   "cell_type": "code",
   "execution_count": 198,
   "metadata": {},
   "outputs": [],
   "source": [
    "df_orig = df.copy(deep=True)"
   ]
  },
  {
   "cell_type": "code",
   "execution_count": 197,
   "metadata": {},
   "outputs": [],
   "source": [
    "for country in countries:\n",
    "    df.drop(f'surplus_{country}', axis=1, inplace=True)"
   ]
  },
  {
   "cell_type": "code",
   "execution_count": 199,
   "metadata": {},
   "outputs": [
    {
     "data": {
      "text/plain": [
       "Index(['StartTime', 'green_energy_SE', 'SE_Load', 'green_energy_DE', 'DE_Load',\n",
       "       'green_energy_HU', 'HU_Load', 'green_energy_IT', 'IT_Load',\n",
       "       'green_energy_SP', 'SP_Load', 'green_energy_NE', 'NE_Load',\n",
       "       'green_energy_PO', 'PO_Load', 'green_energy_UK', 'UK_Load',\n",
       "       'green_energy_DK', 'DK_Load', 'label'],\n",
       "      dtype='object')"
      ]
     },
     "execution_count": 199,
     "metadata": {},
     "output_type": "execute_result"
    }
   ],
   "source": [
    "df.columns"
   ]
  },
  {
   "cell_type": "code",
   "execution_count": 200,
   "metadata": {},
   "outputs": [
    {
     "data": {
      "text/plain": [
       "label\n",
       "2    7796\n",
       "0     873\n",
       "8      91\n",
       "Name: count, dtype: int64"
      ]
     },
     "execution_count": 200,
     "metadata": {},
     "output_type": "execute_result"
    }
   ],
   "source": [
    "df['label'].value_counts()"
   ]
  },
  {
   "cell_type": "code",
   "execution_count": 201,
   "metadata": {},
   "outputs": [],
   "source": [
    "df['StartTime'] = pd.to_datetime(df['StartTime'])"
   ]
  },
  {
   "cell_type": "code",
   "execution_count": 202,
   "metadata": {},
   "outputs": [
    {
     "data": {
      "text/plain": [
       "Index(['StartTime', 'green_energy_SE', 'SE_Load', 'green_energy_DE', 'DE_Load',\n",
       "       'green_energy_HU', 'HU_Load', 'green_energy_IT', 'IT_Load',\n",
       "       'green_energy_SP', 'SP_Load', 'green_energy_NE', 'NE_Load',\n",
       "       'green_energy_PO', 'PO_Load', 'green_energy_UK', 'UK_Load',\n",
       "       'green_energy_DK', 'DK_Load', 'label'],\n",
       "      dtype='object')"
      ]
     },
     "execution_count": 202,
     "metadata": {},
     "output_type": "execute_result"
    }
   ],
   "source": [
    "df.columns"
   ]
  },
  {
   "cell_type": "code",
   "execution_count": 11,
   "metadata": {},
   "outputs": [],
   "source": [
    "def plot_confusion_matrix(c, model):\n",
    "    disp = ConfusionMatrixDisplay(c, display_labels=model.classes_)\n",
    "    _, ax = plt.subplots(figsize=(5, 5))\n",
    "    disp.plot(cmap='Blues', ax=ax)\n",
    "\n",
    "def evaluation_classifier(y_pred, y_test):\n",
    "    \n",
    "    print(\"Accuracy: \", accuracy_score(y_test, y_pred))\n",
    "    print(\"Precision [micro]: \", precision_score(y_test, y_pred, average='micro'))\n",
    "    print(\"Precision [macro]: \", precision_score(y_test, y_pred, average='macro'))\n",
    "    print(\"Sensitivity [micro]: \", recall_score(y_test, y_pred, average='micro'))\n",
    "    print(\"Sensitivity [macro]: \", recall_score(y_test, y_pred, average='macro'))\n",
    "    print(\"F score [micro]: \", f1_score(y_test, y_pred, average='micro'))\n",
    "    print(\"F score [macro]: \", f1_score(y_test, y_pred, average='macro'))\n",
    "\n",
    "    print(\"Precision [all]: \", precision_score(y_test, y_pred, average=None))\n",
    "    print(\"F score [all]: \", f1_score(y_test, y_pred, average=None))\n",
    "    print(\"Sensitivity [all]: \", recall_score(y_test, y_pred, average=None))"
   ]
  },
  {
   "cell_type": "code",
   "execution_count": 16,
   "metadata": {},
   "outputs": [],
   "source": [
    "df['hour'] = df['StartTime'].dt.hour\n",
    "df['day'] = df['StartTime'].dt.day\n",
    "df['month'] = df['StartTime'].dt.month"
   ]
  },
  {
   "cell_type": "code",
   "execution_count": 205,
   "metadata": {},
   "outputs": [],
   "source": [
    "df['month'] = df['StartTime'].dt.month\n",
    "df['hour'] = df['StartTime'].dt.hour"
   ]
  },
  {
   "cell_type": "code",
   "execution_count": 206,
   "metadata": {},
   "outputs": [
    {
     "data": {
      "text/plain": [
       "Index(['StartTime', 'green_energy_SE', 'SE_Load', 'green_energy_DE', 'DE_Load',\n",
       "       'green_energy_HU', 'HU_Load', 'green_energy_IT', 'IT_Load',\n",
       "       'green_energy_SP', 'SP_Load', 'green_energy_NE', 'NE_Load',\n",
       "       'green_energy_PO', 'PO_Load', 'green_energy_UK', 'UK_Load',\n",
       "       'green_energy_DK', 'DK_Load', 'label', 'month', 'hour'],\n",
       "      dtype='object')"
      ]
     },
     "execution_count": 206,
     "metadata": {},
     "output_type": "execute_result"
    }
   ],
   "source": [
    "df.columns"
   ]
  },
  {
   "cell_type": "markdown",
   "metadata": {},
   "source": [
    "#### RESAMPLE"
   ]
  },
  {
   "cell_type": "code",
   "execution_count": 141,
   "metadata": {},
   "outputs": [],
   "source": [
    "dic = dict(df['label'].value_counts())\n",
    "highest_label = max(dic, key=dic.get)"
   ]
  },
  {
   "cell_type": "code",
   "execution_count": 142,
   "metadata": {},
   "outputs": [],
   "source": [
    "df_resampled = df.copy(deep=True)"
   ]
  },
  {
   "cell_type": "code",
   "execution_count": 143,
   "metadata": {},
   "outputs": [],
   "source": [
    "df_majority = df_resampled.loc[df_resampled['label'] == highest_label, :]\n",
    "df_resampled.drop(df_resampled.loc[df_resampled['label'] == highest_label, :].index, inplace=True)"
   ]
  },
  {
   "cell_type": "code",
   "execution_count": 144,
   "metadata": {},
   "outputs": [
    {
     "name": "stdout",
     "output_type": "stream",
     "text": [
      "869\n"
     ]
    }
   ],
   "source": [
    "max_len = max(df_resampled['label'].value_counts())\n",
    "print(max_len)"
   ]
  },
  {
   "cell_type": "code",
   "execution_count": 145,
   "metadata": {},
   "outputs": [
    {
     "data": {
      "text/plain": [
       "(7724, 29)"
      ]
     },
     "execution_count": 145,
     "metadata": {},
     "output_type": "execute_result"
    }
   ],
   "source": [
    "df_majority.shape"
   ]
  },
  {
   "cell_type": "code",
   "execution_count": 146,
   "metadata": {},
   "outputs": [
    {
     "data": {
      "text/plain": [
       "(869, 29)"
      ]
     },
     "execution_count": 146,
     "metadata": {},
     "output_type": "execute_result"
    }
   ],
   "source": [
    "df_majority = resample(df_majority, replace=True, n_samples=max_len, random_state=42)\n",
    "\n",
    "df_majority.shape"
   ]
  },
  {
   "cell_type": "code",
   "execution_count": 147,
   "metadata": {},
   "outputs": [
    {
     "data": {
      "text/plain": [
       "label\n",
       "2    869\n",
       "Name: count, dtype: int64"
      ]
     },
     "execution_count": 147,
     "metadata": {},
     "output_type": "execute_result"
    }
   ],
   "source": [
    "df_majority['label'].value_counts()"
   ]
  },
  {
   "cell_type": "code",
   "execution_count": 148,
   "metadata": {},
   "outputs": [],
   "source": [
    "df_resampled = pd.concat([df_resampled, df_majority])"
   ]
  },
  {
   "cell_type": "code",
   "execution_count": 149,
   "metadata": {},
   "outputs": [
    {
     "data": {
      "text/plain": [
       "label\n",
       "0    869\n",
       "2    869\n",
       "8    157\n",
       "6     12\n",
       "Name: count, dtype: int64"
      ]
     },
     "execution_count": 149,
     "metadata": {},
     "output_type": "execute_result"
    }
   ],
   "source": [
    "df_resampled['label'].value_counts()"
   ]
  },
  {
   "cell_type": "code",
   "execution_count": 150,
   "metadata": {},
   "outputs": [],
   "source": [
    "df = df_resampled.copy(deep=True)"
   ]
  },
  {
   "cell_type": "markdown",
   "metadata": {},
   "source": [
    "#### SPLIT DATA INTO TRAINING AND TEST SETS"
   ]
  },
  {
   "cell_type": "code",
   "execution_count": 207,
   "metadata": {},
   "outputs": [
    {
     "data": {
      "text/plain": [
       "Index(['StartTime', 'green_energy_SE', 'SE_Load', 'green_energy_DE', 'DE_Load',\n",
       "       'green_energy_HU', 'HU_Load', 'green_energy_IT', 'IT_Load',\n",
       "       'green_energy_SP', 'SP_Load', 'green_energy_NE', 'NE_Load',\n",
       "       'green_energy_PO', 'PO_Load', 'green_energy_UK', 'UK_Load',\n",
       "       'green_energy_DK', 'DK_Load', 'label', 'month', 'hour'],\n",
       "      dtype='object')"
      ]
     },
     "execution_count": 207,
     "metadata": {},
     "output_type": "execute_result"
    }
   ],
   "source": [
    "df.columns"
   ]
  },
  {
   "cell_type": "code",
   "execution_count": 208,
   "metadata": {},
   "outputs": [],
   "source": [
    "X = df.drop(['StartTime', 'label'], axis=1)\n",
    "y = df['label']"
   ]
  },
  {
   "cell_type": "code",
   "execution_count": 211,
   "metadata": {},
   "outputs": [
    {
     "data": {
      "text/plain": [
       "(8760, 20)"
      ]
     },
     "execution_count": 211,
     "metadata": {},
     "output_type": "execute_result"
    }
   ],
   "source": [
    "X.shape"
   ]
  },
  {
   "cell_type": "code",
   "execution_count": 212,
   "metadata": {},
   "outputs": [
    {
     "data": {
      "text/plain": [
       "(8760,)"
      ]
     },
     "execution_count": 212,
     "metadata": {},
     "output_type": "execute_result"
    }
   ],
   "source": [
    "y.shape"
   ]
  },
  {
   "cell_type": "code",
   "execution_count": 213,
   "metadata": {},
   "outputs": [],
   "source": [
    "X_train, X_test, y_train, y_test = train_test_split(X, y, test_size=0.2, random_state=42, shuffle=True, stratify=y)"
   ]
  },
  {
   "cell_type": "markdown",
   "metadata": {},
   "source": [
    "#### KNN MODEL"
   ]
  },
  {
   "cell_type": "code",
   "execution_count": 155,
   "metadata": {},
   "outputs": [
    {
     "name": "stdout",
     "output_type": "stream",
     "text": [
      "[[172   1   0   1]\n",
      " [ 13 160   0   1]\n",
      " [  0   0   2   0]\n",
      " [  9   0   0  23]]\n",
      "Accuracy:  0.9345549738219895\n",
      "Precision [micro]:  0.9345549738219895\n",
      "Precision [macro]:  0.9066989942528736\n",
      "Sensitivity [micro]:  0.9345549738219895\n",
      "Sensitivity [macro]:  0.9500966895050266\n",
      "F score [micro]:  0.9345549738219895\n",
      "F score [macro]:  0.9242560082880791\n",
      "Precision [all]:  [0.98850575 0.91954023 1.         0.71875   ]\n",
      "F score [all]:  [0.93478261 0.95522388 1.         0.80701754]\n",
      "Sensitivity [all]:  [0.88659794 0.99378882 1.         0.92      ]\n"
     ]
    },
    {
     "data": {
      "image/png": "[encoded data removed]",
      "text/plain": [
       "<Figure size 500x500 with 2 Axes>"
      ]
     },
     "metadata": {},
     "output_type": "display_data"
    }
   ],
   "source": [
    "knn_model = KNeighborsClassifier(n_jobs=-1)\n",
    "\n",
    "knn_model.fit(X_train, y_train)\n",
    "\n",
    "y_predicted = knn_model.predict(X_test)\n",
    "\n",
    "c = confusion_matrix(y_test, y_predicted)\n",
    "print(c)\n",
    "\n",
    "evaluation_classifier(y_test, y_predicted)\n",
    "plot_confusion_matrix(c, knn_model)"
   ]
  },
  {
   "cell_type": "code",
   "execution_count": 156,
   "metadata": {},
   "outputs": [
    {
     "name": "stdout",
     "output_type": "stream",
     "text": [
      "Fitting 2 folds for each of 45 candidates, totalling 90 fits\n",
      "0.942295057154553\n",
      "{'metric': 'euclidean', 'n_jobs': -1, 'n_neighbors': 1, 'p': 2}\n"
     ]
    }
   ],
   "source": [
    "cv = StratifiedKFold(n_splits=2, shuffle=True, random_state=42)\n",
    "\n",
    "n_neighbors = list(range(1, 10, 2))\n",
    "\n",
    "p = list(range(2, 11, 4))\n",
    "metric = ['euclidean', 'manhattan', 'chebyshev']\n",
    "n_jobs = [-1]\n",
    "\n",
    "param_grid = dict(\n",
    "    n_neighbors = n_neighbors,\n",
    "    p = p,\n",
    "    metric = metric,\n",
    "    n_jobs = n_jobs\n",
    ")\n",
    "\n",
    "grid = GridSearchCV(KNeighborsClassifier(), param_grid=param_grid, n_jobs=-1, cv=cv, verbose=1, scoring='accuracy', refit=True)\n",
    "grid.fit(X_train, y_train)\n",
    "\n",
    "print(grid.best_score_)\n",
    "print(grid.best_params_)"
   ]
  },
  {
   "cell_type": "code",
   "execution_count": 173,
   "metadata": {},
   "outputs": [
    {
     "data": {
      "text/plain": [
       "label\n",
       "0    695\n",
       "2    695\n",
       "8    125\n",
       "6     10\n",
       "Name: count, dtype: int64"
      ]
     },
     "execution_count": 173,
     "metadata": {},
     "output_type": "execute_result"
    }
   ],
   "source": [
    "y_train.value_counts()"
   ]
  },
  {
   "cell_type": "code",
   "execution_count": 174,
   "metadata": {},
   "outputs": [
    {
     "name": "stdout",
     "output_type": "stream",
     "text": [
      "[[173   1   0   0]\n",
      " [  9 163   0   2]\n",
      " [  0   0   2   0]\n",
      " [  6   0   0  26]]\n",
      "Accuracy:  0.9528795811518325\n",
      "Precision [micro]:  0.9528795811518325\n",
      "Precision [macro]:  0.9358836206896551\n",
      "Sensitivity [micro]:  0.9528795811518325\n",
      "Sensitivity [macro]:  0.9606716583883164\n",
      "F score [micro]:  0.9528795811518325\n",
      "F score [macro]:  0.9467412032647902\n",
      "Precision [all]:  [0.99425287 0.93678161 1.         0.8125    ]\n",
      "F score [all]:  [0.9558011  0.96449704 1.         0.86666667]\n",
      "Sensitivity [all]:  [0.92021277 0.99390244 1.         0.92857143]\n"
     ]
    },
    {
     "data": {
      "image/png": "[encoded data removed]",
      "text/plain": [
       "<Figure size 500x500 with 2 Axes>"
      ]
     },
     "metadata": {},
     "output_type": "display_data"
    }
   ],
   "source": [
    "# {'metric': 'manhattan', 'n_jobs': -1, 'n_neighbors': 1, 'p': 2}\n",
    "\n",
    "knn_model = KNeighborsClassifier(n_jobs=-1, metric='euclidean', n_neighbors=1, p=2)\n",
    "\n",
    "knn_model.fit(X_train, y_train)\n",
    "\n",
    "y_predicted = knn_model.predict(X_test)\n",
    "\n",
    "c = confusion_matrix(y_test, y_predicted)\n",
    "print(c)\n",
    "evaluation_classifier(y_test, y_predicted)\n",
    "plot_confusion_matrix(c, knn_model)"
   ]
  },
  {
   "cell_type": "markdown",
   "metadata": {},
   "source": [
    "#### Neural Network"
   ]
  },
  {
   "cell_type": "code",
   "execution_count": 182,
   "metadata": {},
   "outputs": [],
   "source": [
    "from sklearn.neural_network import MLPClassifier"
   ]
  },
  {
   "cell_type": "code",
   "execution_count": 187,
   "metadata": {},
   "outputs": [
    {
     "data": {
      "image/png": "[encoded data removed]",
      "text/plain": [
       "<Figure size 640x480 with 1 Axes>"
      ]
     },
     "metadata": {},
     "output_type": "display_data"
    },
    {
     "name": "stdout",
     "output_type": "stream",
     "text": [
      "0.8930817610062893\n"
     ]
    },
    {
     "data": {
      "image/png": "[encoded data removed]",
      "text/plain": [
       "<Figure size 640x480 with 1 Axes>"
      ]
     },
     "metadata": {},
     "output_type": "display_data"
    },
    {
     "name": "stdout",
     "output_type": "stream",
     "text": [
      "0.8820754716981132\n"
     ]
    },
    {
     "data": {
      "image/png": "[encoded data removed]",
      "text/plain": [
       "<Figure size 640x480 with 1 Axes>"
      ]
     },
     "metadata": {},
     "output_type": "display_data"
    },
    {
     "name": "stdout",
     "output_type": "stream",
     "text": [
      "0.8818897637795275\n"
     ]
    },
    {
     "data": {
      "image/png": "[encoded data removed]",
      "text/plain": [
       "<Figure size 640x480 with 2 Axes>"
      ]
     },
     "metadata": {},
     "output_type": "display_data"
    },
    {
     "name": "stdout",
     "output_type": "stream",
     "text": [
      "% correct predicted:  0.8856843209229156\n"
     ]
    }
   ],
   "source": [
    "s_kfold = StratifiedKFold(n_splits=3, shuffle=True, random_state=42)\n",
    "indexes = s_kfold.split(X, y)\n",
    "\n",
    "accuracy = []\n",
    "final_confusion_matrix = np.zeros((len(np.unique(y)), len(np.unique(y))))\n",
    "\n",
    "for train_index, test_index in indexes:\n",
    "    classifier = MLPClassifier(hidden_layer_sizes=(64, 64, 64), activation='tanh',\n",
    "                            solver='adam', batch_size=50, learning_rate='constant',\n",
    "                            learning_rate_init=0.0001, max_iter=50, shuffle=True,\n",
    "                            random_state=42, early_stopping=True, n_iter_no_change=10,\n",
    "                            validation_fraction=0.1, verbose=False)\n",
    "\n",
    "    classifier.fit(X.iloc[train_index, :].values, y.iloc[train_index])\n",
    "    y_predicted = classifier.predict(X.iloc[test_index, :].values)\n",
    "    plt.figure\n",
    "    plt.plot(classifier.validation_scores_)\n",
    "    plt.show()\n",
    "    print(accuracy_score(y.iloc[test_index], y_predicted))\n",
    "    final_confusion_matrix += confusion_matrix(y.iloc[test_index], y_predicted)\n",
    "\n",
    "conf_mat_display = ConfusionMatrixDisplay(confusion_matrix=final_confusion_matrix, display_labels=classifier.classes_)\n",
    "conf_mat_display.plot(cmap='Blues', values_format='')\n",
    "plt.show()\n",
    "\n",
    "print(\"% correct predicted: \", sum(np.diag(final_confusion_matrix)) / sum(sum(final_confusion_matrix)))"
   ]
  },
  {
   "cell_type": "code",
   "execution_count": 214,
   "metadata": {},
   "outputs": [
    {
     "data": {
      "text/plain": [
       "(1752, 20)"
      ]
     },
     "execution_count": 214,
     "metadata": {},
     "output_type": "execute_result"
    }
   ],
   "source": [
    "X_test.shape"
   ]
  },
  {
   "cell_type": "code",
   "execution_count": null,
   "metadata": {},
   "outputs": [],
   "source": [
    "cv = StratifiedKFold(n_splits=4, shuffle=True, random_state=42)\n",
    "\n",
    "hidden_layer_sizes = [(64, 64, 64), (32, 32, 32), (16, 32, 64), (12, 12, 12), (64, 32, 16, 8, 16, 32, 64)]\n",
    "activation = ['relu', 'tanh']\n",
    "solver = ['adam']\n",
    "batch_size = [50, 80, 130]\n",
    "learning_rate = ['constant', 'adaptive']\n",
    "learning_rate_init = [0.001, 0.0005, 0.00001, 0.1]\n",
    "early_stopping = [True]\n",
    "shuffle = [True]\n",
    "max_iter = [50, 100]\n",
    "n_iter_no_change = [15]\n",
    "validation_fraction = [0.1]\n",
    "random_state = [42]\n",
    "\n",
    "param_grid = dict(hidden_layer_sizes = hidden_layer_sizes,\n",
    "                  activation = activation,\n",
    "                  solver = solver,\n",
    "                  batch_size = batch_size,\n",
    "                  learning_rate = learning_rate,\n",
    "                  learning_rate_init = learning_rate_init,\n",
    "                  early_stopping = early_stopping,\n",
    "                  shuffle = shuffle,\n",
    "                  max_iter = max_iter,\n",
    "                  n_iter_no_change = n_iter_no_change,\n",
    "                  validation_fraction = validation_fraction,\n",
    "                  random_state = random_state)\n",
    "\n",
    "\n",
    "grid = GridSearchCV(MLPClassifier(), param_grid=param_grid, scoring='accuracy', n_jobs=-1, refit=True, cv=cv, verbose=1)\n",
    "grid.fit(X_train.values, y_train)\n",
    "\n",
    "print(\"Best params: \", grid.best_params_)\n",
    "print(\"Best score: \", grid.best_score_)\n"
   ]
  },
  {
   "cell_type": "code",
   "execution_count": 216,
   "metadata": {},
   "outputs": [
    {
     "data": {
      "text/plain": [
       "\"\\nBest params:  \\n    {'activation': 'relu', \\n    'batch_size': 80, \\n    'early_stopping': True, \\n    'hidden_layer_sizes': (64, 64, 64), \\n    'learning_rate': 'constant', 'learning_rate_init': 0.001, 'max_iter': 50, 'n_iter_no_change': 15, 'random_state': 42, 'shuffle': True, 'solver': 'adam', 'validation_fraction': 0.1}\\nBest score:  0.9882990867579908\\n\""
      ]
     },
     "execution_count": 216,
     "metadata": {},
     "output_type": "execute_result"
    }
   ],
   "source": [
    "\"\"\"\n",
    "Best params:  \n",
    "    {'activation': 'relu', \n",
    "    'batch_size': 80, \n",
    "    'early_stopping': True, \n",
    "    'hidden_layer_sizes': (64, 64, 64), \n",
    "    'learning_rate': 'constant', \n",
    "    'learning_rate_init': 0.001, \n",
    "    'max_iter': 50, \n",
    "    'n_iter_no_change': 15, \n",
    "    'random_state': 42, \n",
    "    'shuffle': True, \n",
    "    'solver': 'adam', \n",
    "    'validation_fraction': 0.1}\n",
    "    \n",
    "Best score:  0.9882990867579908\n",
    "\"\"\""
   ]
  },
  {
   "cell_type": "code",
   "execution_count": 217,
   "metadata": {},
   "outputs": [],
   "source": [
    "params = {'activation': 'relu', \n",
    "    'batch_size': 80, \n",
    "    'early_stopping': True, \n",
    "    'hidden_layer_sizes': (64, 64, 64), \n",
    "    'learning_rate': 'constant', \n",
    "    'learning_rate_init': 0.001, \n",
    "    'max_iter': 50, \n",
    "    'n_iter_no_change': 15, \n",
    "    'random_state': 42, \n",
    "    'shuffle': True, \n",
    "    'solver': 'adam', \n",
    "    'validation_fraction': 0.1}"
   ]
  },
  {
   "cell_type": "code",
   "execution_count": 227,
   "metadata": {},
   "outputs": [],
   "source": [
    "model = MLPClassifier(**params, verbose=False)"
   ]
  },
  {
   "cell_type": "code",
   "execution_count": 228,
   "metadata": {},
   "outputs": [
    {
     "data": {
      "text/html": [
       "<style>#sk-container-id-3 {color: black;}#sk-container-id-3 pre{padding: 0;}#sk-container-id-3 div.sk-toggleable {background-color: white;}#sk-container-id-3 label.sk-toggleable__label {cursor: pointer;display: block;width: 100%;margin-bottom: 0;padding: 0.3em;box-sizing: border-box;text-align: center;}#sk-container-id-3 label.sk-toggleable__label-arrow:before {content: \"▸\";float: left;margin-right: 0.25em;color: #696969;}#sk-container-id-3 label.sk-toggleable__label-arrow:hover:before {color: black;}#sk-container-id-3 div.sk-estimator:hover label.sk-toggleable__label-arrow:before {color: black;}#sk-container-id-3 div.sk-toggleable__content {max-height: 0;max-width: 0;overflow: hidden;text-align: left;background-color: #f0f8ff;}#sk-container-id-3 div.sk-toggleable__content pre {margin: 0.2em;color: black;border-radius: 0.25em;background-color: #f0f8ff;}#sk-container-id-3 input.sk-toggleable__control:checked~div.sk-toggleable__content {max-height: 200px;max-width: 100%;overflow: auto;}#sk-container-id-3 input.sk-toggleable__control:checked~label.sk-toggleable__label-arrow:before {content: \"▾\";}#sk-container-id-3 div.sk-estimator input.sk-toggleable__control:checked~label.sk-toggleable__label {background-color: #d4ebff;}#sk-container-id-3 div.sk-label input.sk-toggleable__control:checked~label.sk-toggleable__label {background-color: #d4ebff;}#sk-container-id-3 input.sk-hidden--visually {border: 0;clip: rect(1px 1px 1px 1px);clip: rect(1px, 1px, 1px, 1px);height: 1px;margin: -1px;overflow: hidden;padding: 0;position: absolute;width: 1px;}#sk-container-id-3 div.sk-estimator {font-family: monospace;background-color: #f0f8ff;border: 1px dotted black;border-radius: 0.25em;box-sizing: border-box;margin-bottom: 0.5em;}#sk-container-id-3 div.sk-estimator:hover {background-color: #d4ebff;}#sk-container-id-3 div.sk-parallel-item::after {content: \"\";width: 100%;border-bottom: 1px solid gray;flex-grow: 1;}#sk-container-id-3 div.sk-label:hover label.sk-toggleable__label {background-color: #d4ebff;}#sk-container-id-3 div.sk-serial::before {content: \"\";position: absolute;border-left: 1px solid gray;box-sizing: border-box;top: 0;bottom: 0;left: 50%;z-index: 0;}#sk-container-id-3 div.sk-serial {display: flex;flex-direction: column;align-items: center;background-color: white;padding-right: 0.2em;padding-left: 0.2em;position: relative;}#sk-container-id-3 div.sk-item {position: relative;z-index: 1;}#sk-container-id-3 div.sk-parallel {display: flex;align-items: stretch;justify-content: center;background-color: white;position: relative;}#sk-container-id-3 div.sk-item::before, #sk-container-id-3 div.sk-parallel-item::before {content: \"\";position: absolute;border-left: 1px solid gray;box-sizing: border-box;top: 0;bottom: 0;left: 50%;z-index: -1;}#sk-container-id-3 div.sk-parallel-item {display: flex;flex-direction: column;z-index: 1;position: relative;background-color: white;}#sk-container-id-3 div.sk-parallel-item:first-child::after {align-self: flex-end;width: 50%;}#sk-container-id-3 div.sk-parallel-item:last-child::after {align-self: flex-start;width: 50%;}#sk-container-id-3 div.sk-parallel-item:only-child::after {width: 0;}#sk-container-id-3 div.sk-dashed-wrapped {border: 1px dashed gray;margin: 0 0.4em 0.5em 0.4em;box-sizing: border-box;padding-bottom: 0.4em;background-color: white;}#sk-container-id-3 div.sk-label label {font-family: monospace;font-weight: bold;display: inline-block;line-height: 1.2em;}#sk-container-id-3 div.sk-label-container {text-align: center;}#sk-container-id-3 div.sk-container {/* jupyter's `normalize.less` sets `[hidden] { display: none; }` but bootstrap.min.css set `[hidden] { display: none !important; }` so we also need the `!important` here to be able to override the default hidden behavior on the sphinx rendered scikit-learn.org. See: https://github.com/scikit-learn/scikit-learn/issues/21755 */display: inline-block !important;position: relative;}#sk-container-id-3 div.sk-text-repr-fallback {display: none;}</style><div id=\"sk-container-id-3\" class=\"sk-top-container\"><div class=\"sk-text-repr-fallback\"><pre>MLPClassifier(batch_size=80, early_stopping=True,\n",
       "              hidden_layer_sizes=(64, 64, 64), max_iter=50, n_iter_no_change=15,\n",
       "              random_state=42)</pre><b>In a Jupyter environment, please rerun this cell to show the HTML representation or trust the notebook. <br />On GitHub, the HTML representation is unable to render, please try loading this page with nbviewer.org.</b></div><div class=\"sk-container\" hidden><div class=\"sk-item\"><div class=\"sk-estimator sk-toggleable\"><input class=\"sk-toggleable__control sk-hidden--visually\" id=\"sk-estimator-id-3\" type=\"checkbox\" checked><label for=\"sk-estimator-id-3\" class=\"sk-toggleable__label sk-toggleable__label-arrow\">MLPClassifier</label><div class=\"sk-toggleable__content\"><pre>MLPClassifier(batch_size=80, early_stopping=True,\n",
       "              hidden_layer_sizes=(64, 64, 64), max_iter=50, n_iter_no_change=15,\n",
       "              random_state=42)</pre></div></div></div></div></div>"
      ],
      "text/plain": [
       "MLPClassifier(batch_size=80, early_stopping=True,\n",
       "              hidden_layer_sizes=(64, 64, 64), max_iter=50, n_iter_no_change=15,\n",
       "              random_state=42)"
      ]
     },
     "execution_count": 228,
     "metadata": {},
     "output_type": "execute_result"
    }
   ],
   "source": [
    "model.fit(X_train, y_train)"
   ]
  },
  {
   "cell_type": "code",
   "execution_count": 229,
   "metadata": {},
   "outputs": [],
   "source": [
    "y_predicted = model.predict(X_test)"
   ]
  },
  {
   "cell_type": "code",
   "execution_count": 230,
   "metadata": {},
   "outputs": [
    {
     "data": {
      "text/plain": [
       "array([[ 168,    3,    4],\n",
       "       [  10, 1545,    4],\n",
       "       [   0,    0,   18]])"
      ]
     },
     "execution_count": 230,
     "metadata": {},
     "output_type": "execute_result"
    }
   ],
   "source": [
    "confusion_matrix(y_test, y_predicted)"
   ]
  },
  {
   "cell_type": "code",
   "execution_count": 232,
   "metadata": {},
   "outputs": [
    {
     "name": "stdout",
     "output_type": "stream",
     "text": [
      "Accuracy:  0.988013698630137\n",
      "Precision [micro]:  0.988013698630137\n",
      "Precision [macro]:  0.8780633108435566\n",
      "Sensitivity [micro]:  0.988013698630137\n",
      "Sensitivity [macro]:  0.9836732948471242\n",
      "F score [micro]:  0.988013698630137\n",
      "F score [macro]:  0.921517220674474\n",
      "Precision [all]:  [0.94382022 0.99806202 0.69230769]\n",
      "F score [all]:  [0.95184136 0.99452848 0.81818182]\n",
      "Sensitivity [all]:  [0.96       0.99101988 1.        ]\n"
     ]
    }
   ],
   "source": [
    "evaluation_classifier(y_predicted, y_test)"
   ]
  },
  {
   "cell_type": "code",
   "execution_count": 233,
   "metadata": {},
   "outputs": [
    {
     "name": "stdout",
     "output_type": "stream",
     "text": [
      "[[ 168    3    4]\n",
      " [  10 1545    4]\n",
      " [   0    0   18]]\n"
     ]
    },
    {
     "data": {
      "image/png": "[encoded data removed]",
      "text/plain": [
       "<Figure size 500x500 with 2 Axes>"
      ]
     },
     "metadata": {},
     "output_type": "display_data"
    }
   ],
   "source": [
    "c = confusion_matrix(y_test, y_predicted)\n",
    "print(c)\n",
    "\n",
    "plot_confusion_matrix(c, model)"
   ]
  },
  {
   "cell_type": "markdown",
   "metadata": {},
   "source": [
    "### Testing saved model"
   ]
  },
  {
   "cell_type": "code",
   "execution_count": 23,
   "metadata": {},
   "outputs": [],
   "source": [
    "df = pd.read_csv(f'{DATA_PATH}/test_data.csv')\n",
    "\n",
    "with open(f'{MODEL_PATH}/model.pkl', 'rb') as file:\n",
    "    model = pickle.load(file)"
   ]
  },
  {
   "cell_type": "code",
   "execution_count": 24,
   "metadata": {},
   "outputs": [],
   "source": [
    "y_test = df['label']"
   ]
  },
  {
   "cell_type": "code",
   "execution_count": 25,
   "metadata": {},
   "outputs": [],
   "source": [
    "y_predicted = model.predict(df.drop('label', axis=1))"
   ]
  },
  {
   "cell_type": "markdown",
   "metadata": {},
   "source": [
    "No resampling:\n",
    "Accuracy:  0.9868721461187214\n",
    "Precision [micro]:  0.9868721461187214\n",
    "Precision [macro]:  0.9649789029535865\n",
    "Sensitivity [micro]:  0.9868721461187214\n",
    "Sensitivity [macro]:  0.8361917519183611\n",
    "F score [micro]:  0.9868721461187214\n",
    "F score [macro]:  0.8751373753882978\n",
    "Precision [all]:  [0.9        0.99493671 1.        ]\n",
    "F score [all]:  [0.94076655 0.99714558 0.6875    ]\n",
    "Sensitivity [all]:  [0.98540146 0.99936427 0.52380952]\n",
    "\n",
    "Resampled data:\n"
   ]
  },
  {
   "cell_type": "code",
   "execution_count": 26,
   "metadata": {},
   "outputs": [
    {
     "name": "stdout",
     "output_type": "stream",
     "text": [
      "Accuracy:  0.9763779527559056\n",
      "Precision [micro]:  0.9763779527559056\n",
      "Precision [macro]:  0.3333333333333333\n",
      "Sensitivity [micro]:  0.9763779527559056\n",
      "Sensitivity [macro]:  0.32545931758530183\n",
      "F score [micro]:  0.9763779527559056\n",
      "F score [macro]:  0.3293492695883134\n",
      "Precision [all]:  [0. 1. 0.]\n",
      "F score [all]:  [0.         0.98804781 0.        ]\n",
      "Sensitivity [all]:  [0.         0.97637795 0.        ]\n"
     ]
    },
    {
     "name": "stderr",
     "output_type": "stream",
     "text": [
      "/home/stefan/Documents/Workspace/Python/ML/Hackathon/eco-forecast/venv/lib/python3.9/site-packages/sklearn/metrics/_classification.py:1471: UndefinedMetricWarning: Recall is ill-defined and being set to 0.0 in labels with no true samples. Use `zero_division` parameter to control this behavior.\n",
      "  _warn_prf(average, modifier, msg_start, len(result))\n",
      "/home/stefan/Documents/Workspace/Python/ML/Hackathon/eco-forecast/venv/lib/python3.9/site-packages/sklearn/metrics/_classification.py:1471: UndefinedMetricWarning: Recall is ill-defined and being set to 0.0 in labels with no true samples. Use `zero_division` parameter to control this behavior.\n",
      "  _warn_prf(average, modifier, msg_start, len(result))\n"
     ]
    }
   ],
   "source": [
    "evaluation_classifier(y_predicted, y_test)"
   ]
  }
 ],
 "metadata": {
  "kernelspec": {
   "display_name": "venv",
   "language": "python",
   "name": "python3"
  },
  "language_info": {
   "codemirror_mode": {
    "name": "ipython",
    "version": 3
   },
   "file_extension": ".py",
   "mimetype": "text/x-python",
   "name": "python",
   "nbconvert_exporter": "python",
   "pygments_lexer": "ipython3",
   "version": "3.9.5"
  },
  "orig_nbformat": 4
 },
 "nbformat": 4,
 "nbformat_minor": 2
}
